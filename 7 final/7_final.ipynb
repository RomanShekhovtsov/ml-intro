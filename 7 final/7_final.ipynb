{
 "cells": [
  {
   "cell_type": "markdown",
   "metadata": {
    "colab_type": "text",
    "id": "view-in-github"
   },
   "source": [
    "[View in Colaboratory](https://colab.research.google.com/github/RomanShekhovtsov/ml-intro/blob/master/7_final.ipynb)"
   ]
  },
  {
   "cell_type": "code",
   "execution_count": 1,
   "metadata": {
    "colab": {},
    "colab_type": "code",
    "id": "Ly0zOvub05xF"
   },
   "outputs": [],
   "source": [
    "from time import time\n",
    "\n",
    "def t0():\n",
    "    global t_0\n",
    "    t_0 = time()\n",
    "\n",
    "def ptime():\n",
    "    print( \"TIME: \", round( time() - t_0, 3) )\n",
    "  "
   ]
  },
  {
   "cell_type": "code",
   "execution_count": 3,
   "metadata": {
    "colab": {
     "base_uri": "https://localhost:8080/",
     "height": 284
    },
    "colab_type": "code",
    "id": "YYUWrGrZOhQX",
    "outputId": "b0fee43c-06e1-4598-f818-898af70f9202"
   },
   "outputs": [],
   "source": [
    "import pandas as pd\n",
    "import numpy as np\n",
    "import pylab as pl\n",
    "import matplotlib.pyplot as plt\n",
    "%matplotlib inline\n",
    "\n",
    "def prepare_data( features_url ):\n",
    "    features = pd.read_csv( features_url, index_col='match_id', compression='zip' )\n",
    "    #features.head()\n",
    "\n",
    "    # Удалите признаки, связанные с итогами матча (они помечены в описании данных как отсутствующие в тестовой выборке).\n",
    "    \n",
    "    target = None\n",
    "    if 'radiant_win' in features:\n",
    "        target = features.radiant_win\n",
    "        features = features.drop( features.columns[-6:], 1)\n",
    "    return features, target"
   ]
  },
  {
   "cell_type": "code",
   "execution_count": 4,
   "metadata": {
    "colab": {
     "base_uri": "https://localhost:8080/",
     "height": 346
    },
    "colab_type": "code",
    "id": "N00bHbiczoRN",
    "outputId": "a59eb779-b61a-42fc-eb64-a26e97bd67cd"
   },
   "outputs": [
    {
     "data": {
      "text/html": [
       "<div>\n",
       "<style scoped>\n",
       "    .dataframe tbody tr th:only-of-type {\n",
       "        vertical-align: middle;\n",
       "    }\n",
       "\n",
       "    .dataframe tbody tr th {\n",
       "        vertical-align: top;\n",
       "    }\n",
       "\n",
       "    .dataframe thead th {\n",
       "        text-align: right;\n",
       "    }\n",
       "</style>\n",
       "<table border=\"1\" class=\"dataframe\">\n",
       "  <thead>\n",
       "    <tr style=\"text-align: right;\">\n",
       "      <th></th>\n",
       "      <th>start_time</th>\n",
       "      <th>lobby_type</th>\n",
       "      <th>r1_hero</th>\n",
       "      <th>r1_level</th>\n",
       "      <th>r1_xp</th>\n",
       "      <th>r1_gold</th>\n",
       "      <th>r1_lh</th>\n",
       "      <th>r1_kills</th>\n",
       "      <th>r1_deaths</th>\n",
       "      <th>r1_items</th>\n",
       "      <th>...</th>\n",
       "      <th>radiant_ward_sentry_count</th>\n",
       "      <th>radiant_first_ward_time</th>\n",
       "      <th>dire_bottle_time</th>\n",
       "      <th>dire_courier_time</th>\n",
       "      <th>dire_flying_courier_time</th>\n",
       "      <th>dire_tpscroll_count</th>\n",
       "      <th>dire_boots_count</th>\n",
       "      <th>dire_ward_observer_count</th>\n",
       "      <th>dire_ward_sentry_count</th>\n",
       "      <th>dire_first_ward_time</th>\n",
       "    </tr>\n",
       "    <tr>\n",
       "      <th>match_id</th>\n",
       "      <th></th>\n",
       "      <th></th>\n",
       "      <th></th>\n",
       "      <th></th>\n",
       "      <th></th>\n",
       "      <th></th>\n",
       "      <th></th>\n",
       "      <th></th>\n",
       "      <th></th>\n",
       "      <th></th>\n",
       "      <th></th>\n",
       "      <th></th>\n",
       "      <th></th>\n",
       "      <th></th>\n",
       "      <th></th>\n",
       "      <th></th>\n",
       "      <th></th>\n",
       "      <th></th>\n",
       "      <th></th>\n",
       "      <th></th>\n",
       "      <th></th>\n",
       "    </tr>\n",
       "  </thead>\n",
       "  <tbody>\n",
       "    <tr>\n",
       "      <th>0</th>\n",
       "      <td>1430198770</td>\n",
       "      <td>7</td>\n",
       "      <td>11</td>\n",
       "      <td>5</td>\n",
       "      <td>2098</td>\n",
       "      <td>1489</td>\n",
       "      <td>20</td>\n",
       "      <td>0</td>\n",
       "      <td>0</td>\n",
       "      <td>7</td>\n",
       "      <td>...</td>\n",
       "      <td>0</td>\n",
       "      <td>35.0</td>\n",
       "      <td>103.0</td>\n",
       "      <td>-84.0</td>\n",
       "      <td>221.0</td>\n",
       "      <td>3</td>\n",
       "      <td>4</td>\n",
       "      <td>2</td>\n",
       "      <td>2</td>\n",
       "      <td>-52.0</td>\n",
       "    </tr>\n",
       "    <tr>\n",
       "      <th>1</th>\n",
       "      <td>1430220345</td>\n",
       "      <td>0</td>\n",
       "      <td>42</td>\n",
       "      <td>4</td>\n",
       "      <td>1188</td>\n",
       "      <td>1033</td>\n",
       "      <td>9</td>\n",
       "      <td>0</td>\n",
       "      <td>1</td>\n",
       "      <td>12</td>\n",
       "      <td>...</td>\n",
       "      <td>0</td>\n",
       "      <td>-20.0</td>\n",
       "      <td>149.0</td>\n",
       "      <td>-84.0</td>\n",
       "      <td>195.0</td>\n",
       "      <td>5</td>\n",
       "      <td>4</td>\n",
       "      <td>3</td>\n",
       "      <td>1</td>\n",
       "      <td>-5.0</td>\n",
       "    </tr>\n",
       "    <tr>\n",
       "      <th>2</th>\n",
       "      <td>1430227081</td>\n",
       "      <td>7</td>\n",
       "      <td>33</td>\n",
       "      <td>4</td>\n",
       "      <td>1319</td>\n",
       "      <td>1270</td>\n",
       "      <td>22</td>\n",
       "      <td>0</td>\n",
       "      <td>0</td>\n",
       "      <td>12</td>\n",
       "      <td>...</td>\n",
       "      <td>1</td>\n",
       "      <td>-39.0</td>\n",
       "      <td>45.0</td>\n",
       "      <td>-77.0</td>\n",
       "      <td>221.0</td>\n",
       "      <td>3</td>\n",
       "      <td>4</td>\n",
       "      <td>3</td>\n",
       "      <td>1</td>\n",
       "      <td>13.0</td>\n",
       "    </tr>\n",
       "    <tr>\n",
       "      <th>3</th>\n",
       "      <td>1430263531</td>\n",
       "      <td>1</td>\n",
       "      <td>29</td>\n",
       "      <td>4</td>\n",
       "      <td>1779</td>\n",
       "      <td>1056</td>\n",
       "      <td>14</td>\n",
       "      <td>0</td>\n",
       "      <td>0</td>\n",
       "      <td>5</td>\n",
       "      <td>...</td>\n",
       "      <td>0</td>\n",
       "      <td>-30.0</td>\n",
       "      <td>124.0</td>\n",
       "      <td>-80.0</td>\n",
       "      <td>184.0</td>\n",
       "      <td>0</td>\n",
       "      <td>4</td>\n",
       "      <td>2</td>\n",
       "      <td>0</td>\n",
       "      <td>27.0</td>\n",
       "    </tr>\n",
       "    <tr>\n",
       "      <th>4</th>\n",
       "      <td>1430282290</td>\n",
       "      <td>7</td>\n",
       "      <td>13</td>\n",
       "      <td>4</td>\n",
       "      <td>1431</td>\n",
       "      <td>1090</td>\n",
       "      <td>8</td>\n",
       "      <td>1</td>\n",
       "      <td>0</td>\n",
       "      <td>8</td>\n",
       "      <td>...</td>\n",
       "      <td>0</td>\n",
       "      <td>46.0</td>\n",
       "      <td>182.0</td>\n",
       "      <td>-80.0</td>\n",
       "      <td>225.0</td>\n",
       "      <td>6</td>\n",
       "      <td>3</td>\n",
       "      <td>3</td>\n",
       "      <td>0</td>\n",
       "      <td>-16.0</td>\n",
       "    </tr>\n",
       "  </tbody>\n",
       "</table>\n",
       "<p>5 rows × 102 columns</p>\n",
       "</div>"
      ],
      "text/plain": [
       "          start_time  lobby_type  r1_hero  r1_level  r1_xp  r1_gold  r1_lh  \\\n",
       "match_id                                                                     \n",
       "0         1430198770           7       11         5   2098     1489     20   \n",
       "1         1430220345           0       42         4   1188     1033      9   \n",
       "2         1430227081           7       33         4   1319     1270     22   \n",
       "3         1430263531           1       29         4   1779     1056     14   \n",
       "4         1430282290           7       13         4   1431     1090      8   \n",
       "\n",
       "          r1_kills  r1_deaths  r1_items          ...           \\\n",
       "match_id                                         ...            \n",
       "0                0          0         7          ...            \n",
       "1                0          1        12          ...            \n",
       "2                0          0        12          ...            \n",
       "3                0          0         5          ...            \n",
       "4                1          0         8          ...            \n",
       "\n",
       "          radiant_ward_sentry_count  radiant_first_ward_time  \\\n",
       "match_id                                                       \n",
       "0                                 0                     35.0   \n",
       "1                                 0                    -20.0   \n",
       "2                                 1                    -39.0   \n",
       "3                                 0                    -30.0   \n",
       "4                                 0                     46.0   \n",
       "\n",
       "          dire_bottle_time  dire_courier_time  dire_flying_courier_time  \\\n",
       "match_id                                                                  \n",
       "0                    103.0              -84.0                     221.0   \n",
       "1                    149.0              -84.0                     195.0   \n",
       "2                     45.0              -77.0                     221.0   \n",
       "3                    124.0              -80.0                     184.0   \n",
       "4                    182.0              -80.0                     225.0   \n",
       "\n",
       "          dire_tpscroll_count  dire_boots_count  dire_ward_observer_count  \\\n",
       "match_id                                                                    \n",
       "0                           3                 4                         2   \n",
       "1                           5                 4                         3   \n",
       "2                           3                 4                         3   \n",
       "3                           0                 4                         2   \n",
       "4                           6                 3                         3   \n",
       "\n",
       "          dire_ward_sentry_count  dire_first_ward_time  \n",
       "match_id                                                \n",
       "0                              2                 -52.0  \n",
       "1                              1                  -5.0  \n",
       "2                              1                  13.0  \n",
       "3                              0                  27.0  \n",
       "4                              0                 -16.0  \n",
       "\n",
       "[5 rows x 102 columns]"
      ]
     },
     "execution_count": 4,
     "metadata": {},
     "output_type": "execute_result"
    }
   ],
   "source": [
    "# 1. Считайте таблицу с признаками из файла features.csv с помощью кода, приведенного выше\n",
    "gdrive_file_id = '13oDRm2q6vsh6OtHJB56tdY82-DMSpz7s'\n",
    "#features_url = 'https://drive.google.com/uc?export=download&confirm=no_antivirus&id=' + gdrive_file_id\n",
    "features_url = 'features.zip'\n",
    "features_test_url = 'features_test.zip' \n",
    "\n",
    "features, target = prepare_data( features_url )\n",
    "features_test, target_test  = prepare_data( features_test_url )\n",
    "features.head()"
   ]
  },
  {
   "cell_type": "code",
   "execution_count": null,
   "metadata": {},
   "outputs": [],
   "source": [
    "features.describe()"
   ]
  },
  {
   "cell_type": "code",
   "execution_count": 6,
   "metadata": {
    "colab": {
     "base_uri": "https://localhost:8080/",
     "height": 272
    },
    "colab_type": "code",
    "id": "xIYEymCZrHZv",
    "outputId": "d6ee566a-ecbc-404a-b44f-8a939755009b"
   },
   "outputs": [
    {
     "name": "stdout",
     "output_type": "stream",
     "text": [
      "max: 97230\n",
      "misses:\n",
      "Series([], dtype: int64)\n"
     ]
    }
   ],
   "source": [
    "# 2. Проверьте выборку на наличие пропусков с помощью функции count(), которая для каждого столбца показывает число заполненных значений.\n",
    "# Много ли пропусков в данных?\n",
    "def features_with_miss( features ):\n",
    "    c = features.count()\n",
    "    print( 'max:', max(c) )\n",
    "    print( 'misses:', c[c<max(c)].sort_values(), sep='\\n')\n",
    "  \n",
    "features_with_miss( features )"
   ]
  },
  {
   "cell_type": "markdown",
   "metadata": {
    "colab_type": "text",
    "id": "0KzXh60EwfEK"
   },
   "source": [
    "##Запишите названия признаков, имеющих пропуски, и попробуйте для любых двух из них дать обоснование, почему их значения могут быть пропущены.\n",
    "\n",
    "###Признаки, имеющие пропуски\n",
    "```\n",
    "first_blood_player2            53243\n",
    "radiant_flying_courier_time    69751\n",
    "dire_flying_courier_time       71132\n",
    "first_blood_time               77677\n",
    "first_blood_team               77677\n",
    "first_blood_player1            77677\n",
    "dire_bottle_time               81087\n",
    "radiant_bottle_time            81539\n",
    "radiant_first_ward_time        95394\n",
    "dire_first_ward_time           95404\n",
    "radiant_courier_time           96538\n",
    "dire_courier_time              96554\n",
    "```\n",
    "###Обоснование\n",
    "\n",
    "Очевидно, в первые 5 мин матча не происходили события, описываемые данными признаками.\n",
    "\n",
    "При этом по событию **first_blood** мы видим аномалию признака **first_blood_player2** - заполнено 53243 строки.\n",
    "У остальных признаков **first_blood**, например, **first_blood_time**, заполнено 77677 строк.\n",
    "Возможная причина (https://otvet.mail.ru/question/83833036):\n",
    "\n",
    "First blood” может быть засчитан если игрок был убит башней или крипами принадлежащими к команде соперника при условии что это произошло в короткий промежуток времени после нанесения урона игроком противоположной команды\n"
   ]
  },
  {
   "cell_type": "code",
   "execution_count": 7,
   "metadata": {
    "colab": {
     "base_uri": "https://localhost:8080/",
     "height": 68
    },
    "colab_type": "code",
    "id": "izSc_sHNx1Nb",
    "outputId": "b0114bac-3a7f-478a-c3d9-d44c78776832"
   },
   "outputs": [
    {
     "name": "stdout",
     "output_type": "stream",
     "text": [
      "max: 97230\n",
      "misses:\n",
      "Series([], dtype: int64)\n"
     ]
    }
   ],
   "source": [
    "# 3. Замените пропуски на нули с помощью функции fillna(). \n",
    "features = features.fillna(0)\n",
    "features_test = features_test.fillna(0)\n",
    "features_with_miss( features )\n",
    "\n",
    "# На самом деле этот способ является предпочтительным для логистической регрессии, поскольку он позволит пропущенному значению не вносить никакого вклада в предсказание.\n",
    "# Для деревьев часто лучшим вариантом оказывается замена пропуска на очень большое или очень маленькое значение — в этом случае при построении разбиения вершины\n",
    "# можно будет отправить объекты с пропусками в отдельную ветвь дерева. Также есть и другие подходы — например, замена пропуска на среднее значение признака.\n",
    "# Мы не требуем этого в задании, но при желании попробуйте разные подходы к обработке пропусков и сравните их между собой."
   ]
  },
  {
   "cell_type": "code",
   "execution_count": null,
   "metadata": {
    "colab": {
     "base_uri": "https://localhost:8080/",
     "height": 136
    },
    "colab_type": "code",
    "id": "MQPxsIgW0jZj",
    "outputId": "70a54ee0-fadc-4629-d8aa-207a81b422fb"
   },
   "outputs": [],
   "source": [
    "# 4. Какой столбец содержит целевую переменную? Запишите его название.\n",
    "# radiant_win\n",
    "target.head()"
   ]
  },
  {
   "cell_type": "code",
   "execution_count": 19,
   "metadata": {
    "colab": {},
    "colab_type": "code",
    "id": "JuPvumo41ZuF"
   },
   "outputs": [
    {
     "data": {
      "text/plain": [
       "<Figure size 432x288 with 0 Axes>"
      ]
     },
     "metadata": {},
     "output_type": "display_data"
    },
    {
     "name": "stdout",
     "output_type": "stream",
     "text": [
      "TIME:  4.936\n",
      "TIME:  4.861\n",
      "TIME:  4.607\n",
      "TIME:  4.753\n",
      "TIME:  4.909\n",
      "cross_val_score:  0.6648329228049101 mean_roc_auc:  0.6648329228049101\n",
      "TIME:  9.133\n",
      "TIME:  10.493\n",
      "TIME:  10.416\n",
      "TIME:  9.891\n",
      "TIME:  10.009\n",
      "cross_val_score:  0.6821140369500347 mean_roc_auc:  0.6821140369500347\n",
      "TIME:  14.631\n",
      "TIME:  14.285\n",
      "TIME:  15.993\n",
      "TIME:  14.377\n",
      "TIME:  14.805\n",
      "cross_val_score:  0.6896947542059905 mean_roc_auc:  0.6896947542059905\n"
     ]
    },
    {
     "data": {
      "image/png": "[encoded data removed]",
      "text/plain": [
       "<Figure size 432x288 with 1 Axes>"
      ]
     },
     "metadata": {},
     "output_type": "display_data"
    },
    {
     "data": {
      "image/png": "[encoded data removed]",
      "text/plain": [
       "<Figure size 432x288 with 1 Axes>"
      ]
     },
     "metadata": {},
     "output_type": "display_data"
    },
    {
     "data": {
      "image/png": "[encoded data removed]",
      "text/plain": [
       "<Figure size 432x288 with 1 Axes>"
      ]
     },
     "metadata": {},
     "output_type": "display_data"
    }
   ],
   "source": [
    "randomState = 1 #заменить на Nonе для проверки с вариациями\n",
    "nJobs = 1 #сколько ядер используем\n",
    "\n",
    "# 5. Забудем, что в выборке есть категориальные признаки, и попробуем обучить градиентный бустинг над деревьями на имеющейся матрице \"объекты-признаки\". \n",
    "# Зафиксируйте генератор разбиений для кросс-валидации по 5 блокам (KFold), не забудьте перемешать при этом выборку (shuffle=True),\n",
    "# поскольку данные в таблице отсортированы по времени, и без перемешивания можно столкнуться с нежелательными эффектами при оценивании качества. \n",
    "from sklearn.model_selection import KFold, cross_val_score\n",
    "from sklearn.ensemble import GradientBoostingClassifier\n",
    "from sklearn.metrics import roc_curve, auc\n",
    "\n",
    "pl.clf()\n",
    "pl.show()\n",
    "\n",
    "kf = KFold( n_splits=5, shuffle=True, random_state=randomState )\n",
    "\n",
    "# Оцените качество градиентного бустинга (GradientBoostingClassifier) с помощью данной кросс-валидации,\n",
    "# попробуйте при этом разное количество деревьев (как минимум протестируйте следующие значения для количества деревьев: 10, 20, 30).\n",
    "for n in (10, 20, 30):\n",
    "    #print( train_index.shape, test_index.shape )\n",
    "    gbc = GradientBoostingClassifier( n_estimators=n, random_state=randomState )\n",
    "   \n",
    "    #print( train_index[:10]) #train_x.count() )\n",
    "\n",
    "    m = 0   \n",
    "    sum_roc_auc = 0\n",
    "    plt.figure()     \n",
    "    for train_index, test_index in kf.split( features ):\n",
    "        t0()\n",
    "        \n",
    "        m = m + 1\n",
    "        train_x = features.iloc[ train_index, :]\n",
    "        train_y =   target.iloc[ train_index]\n",
    "\n",
    "        test_x = features.iloc [ test_index, :]\n",
    "        test_y =   target.iloc [ test_index]\n",
    "        \n",
    "        gbc.fit( train_x, train_y )\n",
    "        predict = gbc.predict_proba( test_x )[:, 1] #делаем через predict_proba\n",
    "        \n",
    "        fpr, tpr, thresholds = roc_curve(test_y, predict)\n",
    "        roc_auc  = auc(fpr, tpr) #площадь под кривой\n",
    "        sum_roc_auc = sum_roc_auc + roc_auc\n",
    "        pl.plot(fpr, tpr, label='%s ROC (area = %0.2f)' % ('GBC, n_estimators=' + str(n) + ', set=' + str(m), roc_auc))\n",
    "        \n",
    "        ptime()\n",
    "    \n",
    "    pl.legend(loc=0, fontsize='small')\n",
    "    \n",
    "    mean_roc_auc = sum_roc_auc / m\n",
    "    \n",
    "    # можно было бы тоже самое получить через cross_val_score(), результаты совпадают\n",
    "    scores = cross_val_score( gbc, features, target, cv=kf, scoring='roc_auc', n_jobs=nJobs )\n",
    "    \n",
    "    print( \"cross_val_score: \", np.mean( scores ), 'mean_roc_auc: ', mean_roc_auc )\n"
   ]
  },
  {
   "cell_type": "markdown",
   "metadata": {
    "colab_type": "text",
    "id": "xFm1CvIkBm4_"
   },
   "source": [
    "###Долго ли настраивались классификаторы?###\n",
    "Результат на Intel Core i5 (4 core, n_jobs=4):\n",
    "```\n",
    "n_estimators ROC-AUC            время (сек)\n",
    "10           0.6648329228049101 21.174\n",
    "20           0.6821140369500347 38.3\n",
    "30           0.6896947542059905 54.542\n",
    "```\n",
    "###Достигнут ли оптимум на испытанных значениях параметра n_estimators, или же качество, скорее всего, продолжит расти при дальнейшем его увеличении?###\n",
    "Качество, скорее всего, продолжит расти при дальнейшем его увеличении."
   ]
  },
  {
   "cell_type": "code",
   "execution_count": 54,
   "metadata": {},
   "outputs": [],
   "source": [
    "# Подход 2: логистическая регрессия\n",
    "\n",
    "def calc_linear_regression( features ):\n",
    "    # Важно: не забывайте, что линейные алгоритмы чувствительны к масштабу признаков!\n",
    "    # Может пригодиться sklearn.preprocessing.StandartScaler.\n",
    "    from sklearn.preprocessing import StandardScaler\n",
    "    scaler = StandardScaler()\n",
    "    #scaled_features = scaler.fit_transform( features )\n",
    "    #scaled_target = target #scaler.fit_transform( target )\n",
    "\n",
    "    # Оцените качество логистической регрессии (sklearn.linear_model.LogisticRegression с L2-регуляризацией) \n",
    "    # с помощью кросс-валидации по той же схеме, которая использовалась для градиентного бустинга. \n",
    "    from sklearn.linear_model import LogisticRegression\n",
    "\n",
    "    plt.figure()\n",
    "    c_list   = list()\n",
    "    roc_list = list()\n",
    "\n",
    "    for c in np.linspace(0.003, 0.007, 20): # (0.0001, 0.001, 0.01, 0.1, 1 ):\n",
    "\n",
    "        t0()\n",
    "        lr = LogisticRegression( 'l2', C=c, random_state=randomState )\n",
    "\n",
    "        m = 0   \n",
    "        sum_roc_auc = 0\n",
    "        for train_index, test_index in kf.split( scaled_features ):\n",
    "\n",
    "            m = m + 1\n",
    "            train_x = scaler.fit_transform( features.iloc[ train_index, :] )\n",
    "            train_y = target.iloc[ train_index]\n",
    "\n",
    "            test_x = scaler.fit_transform( features.iloc [ test_index, :] )\n",
    "            test_y = target.iloc[ test_index]\n",
    "\n",
    "            lr.fit( train_x, train_y )\n",
    "            predict = lr.predict_proba( test_x )[:, 1] #делаем через predict_proba\n",
    "\n",
    "            fpr, tpr, thresholds = roc_curve(test_y, predict)\n",
    "            roc_auc  = auc(fpr, tpr) #площадь под кривой\n",
    "            sum_roc_auc = sum_roc_auc + roc_auc\n",
    "            #pl.plot(fpr, tpr, label='%s ROC (area = %0.2f)' % ('LR, C=' + str(c) + ', set=' + str(m), roc_auc))\n",
    "\n",
    "\n",
    "        #pl.legend(loc=0, fontsize='small')\n",
    "\n",
    "        mean_roc_auc = sum_roc_auc / m\n",
    "        roc_list.append( mean_roc_auc )\n",
    "        c_list.append( c )\n",
    "        # можно было бы тоже самое получить через cross_val_score(), результаты совпадают\n",
    "        #scores = cross_val_score( gbc, features, target, cv=kf, scoring='roc_auc', n_jobs=nJobs )\n",
    "\n",
    "        print( 'LR, C=' + str(c), 'mean_roc_auc: ', mean_roc_auc )\n",
    "        ptime()\n",
    "\n",
    "    pl.plot( c_list, roc_list )"
   ]
  },
  {
   "cell_type": "code",
   "execution_count": 48,
   "metadata": {
    "colab": {},
    "colab_type": "code",
    "id": "cKoSydIJDJeV"
   },
   "outputs": [
    {
     "name": "stdout",
     "output_type": "stream",
     "text": [
      "LR, C=0.003 mean_roc_auc:  0.7163831308913554\n",
      "TIME:  12.303\n",
      "LR, C=0.0032105263157894736 mean_roc_auc:  0.7163852058630286\n",
      "TIME:  11.228\n",
      "LR, C=0.0034210526315789475 mean_roc_auc:  0.7163865345018007\n",
      "TIME:  11.315\n",
      "LR, C=0.003631578947368421 mean_roc_auc:  0.7163884950930189\n",
      "TIME:  11.491\n",
      "LR, C=0.003842105263157895 mean_roc_auc:  0.7163878924920816\n",
      "TIME:  11.419\n",
      "LR, C=0.0040526315789473685 mean_roc_auc:  0.7163877285290703\n",
      "TIME:  11.397\n",
      "LR, C=0.004263157894736842 mean_roc_auc:  0.7163885448500986\n",
      "TIME:  11.825\n",
      "LR, C=0.0044736842105263155 mean_roc_auc:  0.7163897278570343\n",
      "TIME:  11.885\n",
      "LR, C=0.00468421052631579 mean_roc_auc:  0.7163896374032701\n",
      "TIME:  11.68\n",
      "LR, C=0.004894736842105263 mean_roc_auc:  0.7163888839856879\n",
      "TIME:  11.778\n",
      "LR, C=0.005105263157894737 mean_roc_auc:  0.7163892829270188\n",
      "TIME:  12.401\n",
      "LR, C=0.005315789473684211 mean_roc_auc:  0.7163876397619484\n",
      "TIME:  12.283\n",
      "LR, C=0.005526315789473685 mean_roc_auc:  0.7163874346250028\n",
      "TIME:  12.338\n",
      "LR, C=0.005736842105263158 mean_roc_auc:  0.7163870689037842\n",
      "TIME:  12.41\n",
      "LR, C=0.005947368421052632 mean_roc_auc:  0.716386609753229\n",
      "TIME:  12.37\n",
      "LR, C=0.006157894736842105 mean_roc_auc:  0.7163862583265874\n",
      "TIME:  12.349\n",
      "LR, C=0.006368421052631579 mean_roc_auc:  0.7163849774524754\n",
      "TIME:  12.407\n",
      "LR, C=0.006578947368421052 mean_roc_auc:  0.7163840266976023\n",
      "TIME:  12.265\n",
      "LR, C=0.006789473684210527 mean_roc_auc:  0.7163835483576023\n",
      "TIME:  12.453\n",
      "LR, C=0.007 mean_roc_auc:  0.7163835634365678\n",
      "TIME:  12.537\n"
     ]
    },
    {
     "data": {
      "text/plain": [
       "[<matplotlib.lines.Line2D at 0xc13a4a8>]"
      ]
     },
     "execution_count": 48,
     "metadata": {},
     "output_type": "execute_result"
    },
    {
     "data": {
      "image/png": "[encoded data removed]",
      "text/plain": [
       "<Figure size 432x288 with 1 Axes>"
      ]
     },
     "metadata": {},
     "output_type": "display_data"
    }
   ],
   "source": [
    "calc_linear_regression( features )\n",
    "\n",
    "# Подберите при этом лучший параметр регуляризации (C). \n",
    "# C=0.0044736842105263155 mean_roc_auc:  0.7163897278570343\n",
    "\n",
    "# Какое наилучшее качество у вас получилось?\n",
    "# 0.7163897278570343\n",
    "\n",
    "# Как оно соотносится с качеством градиентного бустинга? \n",
    "# лучше, чем у градиентного бустинга\n",
    "\n",
    "# Чем вы можете объяснить эту разницу?\n",
    "# градиентный бустинг нашел локальный оптимум.\n",
    "\n",
    "# Быстрее ли работает логистическая регрессия по сравнению с градиентным бустингом?\n",
    "#да"
   ]
  },
  {
   "cell_type": "code",
   "execution_count": 55,
   "metadata": {},
   "outputs": [
    {
     "name": "stdout",
     "output_type": "stream",
     "text": [
      "LR, C=0.003 mean_roc_auc:  0.7164121549433904\n",
      "TIME:  10.15\n",
      "LR, C=0.0032105263157894736 mean_roc_auc:  0.7164155462224151\n",
      "TIME:  11.083\n",
      "LR, C=0.0034210526315789475 mean_roc_auc:  0.7164154139814071\n",
      "TIME:  11.085\n",
      "LR, C=0.003631578947368421 mean_roc_auc:  0.7164177501289806\n",
      "TIME:  10.287\n",
      "LR, C=0.003842105263157895 mean_roc_auc:  0.7164180369587958\n",
      "TIME:  10.96\n",
      "LR, C=0.0040526315789473685 mean_roc_auc:  0.7164176988948179\n",
      "TIME:  10.927\n",
      "LR, C=0.004263157894736842 mean_roc_auc:  0.7164191550069081\n",
      "TIME:  10.74\n",
      "LR, C=0.0044736842105263155 mean_roc_auc:  0.7164181894780824\n",
      "TIME:  10.786\n",
      "LR, C=0.00468421052631579 mean_roc_auc:  0.7164178470007962\n",
      "TIME:  10.827\n",
      "LR, C=0.004894736842105263 mean_roc_auc:  0.71641769949563\n",
      "TIME:  10.889\n",
      "LR, C=0.005105263157894737 mean_roc_auc:  0.7164180324048501\n",
      "TIME:  10.941\n",
      "LR, C=0.005315789473684211 mean_roc_auc:  0.7164179826354994\n",
      "TIME:  10.888\n",
      "LR, C=0.005526315789473685 mean_roc_auc:  0.7164174221567103\n",
      "TIME:  10.944\n",
      "LR, C=0.005736842105263158 mean_roc_auc:  0.7164176579072277\n",
      "TIME:  11.035\n",
      "LR, C=0.005947368421052632 mean_roc_auc:  0.7164164491336398\n",
      "TIME:  11.461\n",
      "LR, C=0.006157894736842105 mean_roc_auc:  0.7164168371423816\n",
      "TIME:  11.126\n",
      "LR, C=0.006368421052631579 mean_roc_auc:  0.7164166848400592\n",
      "TIME:  11.048\n",
      "LR, C=0.006578947368421052 mean_roc_auc:  0.7164162191584762\n",
      "TIME:  11.022\n",
      "LR, C=0.006789473684210527 mean_roc_auc:  0.7164164400680957\n",
      "TIME:  10.995\n",
      "LR, C=0.007 mean_roc_auc:  0.7164165016821065\n",
      "TIME:  11.017\n"
     ]
    },
    {
     "data": {
      "image/png": "[encoded data removed]",
      "text/plain": [
       "<Figure size 432x288 with 1 Axes>"
      ]
     },
     "metadata": {},
     "output_type": "display_data"
    }
   ],
   "source": [
    "# Среди признаков в выборке есть категориальные, которые мы использовали \n",
    "# как числовые, что вряд ли является хорошей идеей.\n",
    "# Категориальных признаков в этой задаче одиннадцать:\n",
    "# lobby_type и r1_hero, r2_hero, ..., r5_hero, d1_hero, d2_hero, ..., d5_hero. \n",
    "# Уберите их из выборки, и проведите кросс-валидацию для логистической регрессии\n",
    "# на новой выборке с подбором лучшего параметра регуляризации. \n",
    "cat_fields = ['lobby_type', 'r1_hero', 'r2_hero', 'r3_hero','r4_hero','r5_hero', \n",
    "              'd1_hero', 'd2_hero', 'd3_hero', 'd4_hero', 'd5_hero' ]\n",
    "non_cat_features = features.drop( cat_fieds, 1)\n",
    "non_cat_features[:10]\n",
    "calc_linear_regression( non_cat_features )\n",
    "\n",
    "# Изменилось ли качество? Чем вы можете это объяснить?\n",
    "# C=0.004263157894736842 mean_roc_auc:  0.7164191550069081\n",
    "# качество незначительно выросло, за счет удаления категорийных признаков\n",
    "# модель не могла их использовать, они лишь вносили шум в результат."
   ]
  },
  {
   "cell_type": "code",
   "execution_count": 79,
   "metadata": {},
   "outputs": [],
   "source": [
    "# Выясните из данных, сколько различных идентификаторов героев существует \n",
    "# в данной игре (вам может пригодиться фукнция unique или value_counts).\n",
    "cat_fields = ['lobby_type', 'r1_hero', 'r2_hero', 'r3_hero','r4_hero','r5_hero', \n",
    "              'd1_hero', 'd2_hero', 'd3_hero', 'd4_hero', 'd5_hero' ]\n",
    "\n",
    "hero_id_fields = cat_fields.copy()\n",
    "hero_id_fields.remove('lobby_type')\n",
    "\n",
    "uniq_ids = list()\n",
    "for field in hero_id_fields:\n",
    "      uniq_ids.extend( features[field].unique() )\n",
    "uniq_ids = set( uniq_ids )\n",
    "\n",
    "heroes_count = len(uniq_ids)\n",
    "x_pick = np.zeros( features.shape[0], heroes_count )\n",
    "\n",
    "for i, match_id in enumerate( features.index ):\n",
    "    for p in xrange(5):\n",
    "        x_pick[i, features.ix[match_id, 'r%d_hero' % (p+1)]-1] = 1\n",
    "        x_pick[i, features.ix[match_id, 'd%d_hero' % (p+1)]-1] = -1\n",
    "\n",
    "# Воспользуемся подходом \"мешок слов\" для кодирования информации о героях. \n",
    "# Пусть всего в игре имеет N различных героев.\n",
    "# Сформируем N признаков, при этом i-й будет равен нулю, если i-й герой\n",
    "# не участвовал в матче; единице, если i-й герой играл за команду Radiant;\n",
    "# минус единице, если i-й герой играл за команду Dire.\n",
    "\n",
    "# Добавьте полученные признаки к числовым, которые вы использовали во втором пункте данного этапа.\n",
    "\n",
    "# Проведите кросс-валидацию для логистической регрессии на новой выборке с подбором лучшего параметра регуляризации.\n",
    "\n",
    "# Какое получилось качество? Улучшилось ли оно? Чем вы можете это объяснить?\n",
    "\n",
    "# Постройте предсказания вероятностей победы команды Radiant\n",
    "# для тестовой выборки с помощью лучшей из изученных моделей\n",
    "# (лучшей с точки зрения AUC-ROC на кросс-валидации).\n",
    "\n",
    "# Убедитесь, что предсказанные вероятности адекватные — находятся на отрезке\n",
    "# [0, 1], не совпадают между собой (т.е. что модель не получилась константной)."
   ]
  }
 ],
 "metadata": {
  "colab": {
   "collapsed_sections": [],
   "include_colab_link": true,
   "name": "7 final.ipynb",
   "provenance": [],
   "version": "0.3.2"
  },
  "kernelspec": {
   "display_name": "Python 3",
   "language": "python",
   "name": "python3"
  },
  "language_info": {
   "codemirror_mode": {
    "name": "ipython",
    "version": 3
   },
   "file_extension": ".py",
   "mimetype": "text/x-python",
   "name": "python",
   "nbconvert_exporter": "python",
   "pygments_lexer": "ipython3",
   "version": "3.6.5"
  }
 },
 "nbformat": 4,
 "nbformat_minor": 1
}
